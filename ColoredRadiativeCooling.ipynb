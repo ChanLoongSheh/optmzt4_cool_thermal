{
 "cells": [
  {
   "cell_type": "code",
   "execution_count": 7,
   "id": "1c75a450",
   "metadata": {},
   "outputs": [
    {
     "data": {
      "text/plain": [
       "'\\n不用梯形法，对I，即光源头尾元素乘以0.5，再用行向量乘以列向量，即两个向量的元素对应相乘再相加\\n求出XYZ三色刺激值的系数，100/(I与y的积分)，y为颜色匹配函数中的一支\\n'"
      ]
     },
     "execution_count": 7,
     "metadata": {},
     "output_type": "execute_result"
    }
   ],
   "source": [
    "from scipy.optimize import linprog, minimize\n",
    "import pandas as pd\n",
    "import numpy as np\n",
    "from math import *\n",
    "import mpmath as mp\n",
    "\n",
    "\n",
    "global coordinate_x, coordinate_y, I, X0Y0Z0\n",
    "#设置计算精度\n",
    "mp.dps = 20\n",
    "I_path = 'astmg173.xls'\n",
    "d65_path = 'CIE_std_illum_D65.xlsx'\n",
    "cmf_path = 'colorMatchFcn.xlsx'\n",
    "data = pd.read_excel(I_path, sheet_name='Sheet1')\n",
    "\n",
    "# 找360nm波长对应的索引，将此索引与对应的值作为起始\n",
    "wvlngth_idx = int(data.loc[data['wavelength/nm'] == 359.5].index.values) + 1\n",
    "I = np.array(data['I'][wvlngth_idx:])\n",
    "I[0] = 0.5 * I[0]\n",
    "I[I.shape[0] - 1] = 0.5 * I[I.shape[0] - 1]\n",
    "\n",
    "d65 = pd.read_excel(d65_path)\n",
    "cmf = pd.read_excel(cmf_path)\n",
    "denominator = 0\n",
    "cmf.drop('wavelength', axis=1, inplace=True)\n",
    "cmf_matrix = cmf.to_numpy()\n",
    "\n",
    "'''\n",
    "梯形法求出光源光谱I与颜色匹配函数的y的积分结果\n",
    "for i in range(cmf.shape[0] - 1):\n",
    "     d65_tmp1 = d65['value'][i]\n",
    "     d65_tmp2 = d65['value'][i + 1]\n",
    "     cmf_tmp1 = cmf['y'][i]\n",
    "     cmf_tmp2 = cmf['y'][i + 1]\n",
    "     denominator += (d65_tmp1 * cmf_tmp1 + d65_tmp2 * cmf_tmp2) / 2\n",
    "'''\n",
    "\n",
    "'''\n",
    "不用梯形法，对I，即光源头尾元素乘以0.5，再用行向量乘以列向量，即两个向量的元素对应相乘再相加\n",
    "求出XYZ三色刺激值的系数，100/(I与y的积分)，y为颜色匹配函数中的一支\n",
    "'''"
   ]
  },
  {
   "cell_type": "code",
   "execution_count": 3,
   "id": "fe6b9c07",
   "metadata": {},
   "outputs": [],
   "source": [
    "I = I.transpose()"
   ]
  },
  {
   "cell_type": "code",
   "execution_count": 4,
   "id": "9616651a",
   "metadata": {},
   "outputs": [
    {
     "data": {
      "text/plain": [
       "(401,)"
      ]
     },
     "execution_count": 4,
     "metadata": {},
     "output_type": "execute_result"
    }
   ],
   "source": [
    "I.shape"
   ]
  },
  {
   "cell_type": "code",
   "execution_count": 5,
   "id": "4782d86c",
   "metadata": {},
   "outputs": [
    {
     "data": {
      "text/plain": [
       "(401, 3)"
      ]
     },
     "execution_count": 5,
     "metadata": {},
     "output_type": "execute_result"
    }
   ],
   "source": [
    "cmf_matrix.shape"
   ]
  },
  {
   "cell_type": "code",
   "execution_count": 6,
   "id": "eb022500",
   "metadata": {},
   "outputs": [
    {
     "data": {
      "text/plain": [
       "(401,)"
      ]
     },
     "execution_count": 6,
     "metadata": {},
     "output_type": "execute_result"
    }
   ],
   "source": [
    "cmf_matrix[:,1].shape"
   ]
  },
  {
   "cell_type": "code",
   "execution_count": 7,
   "id": "09874ce5",
   "metadata": {},
   "outputs": [
    {
     "data": {
      "text/plain": [
       "160.3138422982072"
      ]
     },
     "execution_count": 7,
     "metadata": {},
     "output_type": "execute_result"
    }
   ],
   "source": [
    "np.dot(I,cmf_matrix[:,1])"
   ]
  },
  {
   "cell_type": "code",
   "execution_count": 8,
   "id": "028743ef",
   "metadata": {},
   "outputs": [
    {
     "name": "stdout",
     "output_type": "stream",
     "text": [
      "160.31384229820733\n"
     ]
    }
   ],
   "source": [
    "result=0\n",
    "for i in range(cmf.shape[0]):\n",
    "    tmp=cmf_matrix[:,1][i]*I[i]\n",
    "    result += tmp\n",
    "print(result)"
   ]
  },
  {
   "cell_type": "code",
   "execution_count": 29,
   "id": "606c6206",
   "metadata": {},
   "outputs": [],
   "source": [
    "r0 = 0.5*np.ones(401)"
   ]
  },
  {
   "cell_type": "code",
   "execution_count": 10,
   "id": "3f1f5ea6",
   "metadata": {},
   "outputs": [],
   "source": [
    "Coefficient = 100/np.dot(I, cmf['y'].to_numpy())"
   ]
  },
  {
   "cell_type": "code",
   "execution_count": 11,
   "id": "27b88142",
   "metadata": {},
   "outputs": [],
   "source": [
    "X0 = np.multiply(I, cmf['x'].to_numpy())* Coefficient\n",
    "Y0 = np.multiply(I, cmf['y'].to_numpy())* Coefficient\n",
    "Z0 = np.multiply(I, cmf['z'].to_numpy())* Coefficient\n",
    "X1 = np.ones(401)\n",
    "Y1 = np.ones(401)\n",
    "Z1 = np.ones(401)\n",
    "for i in range(401):\n",
    "    X1[i] = (I[i] * cmf['x'][i]) * Coefficient\n",
    "    Y1[i] = (I[i] * cmf['y'][i]) * Coefficient\n",
    "    Z1[i] = (I[i] * cmf['z'][i]) * Coefficient"
   ]
  },
  {
   "cell_type": "code",
   "execution_count": 49,
   "id": "3d14f239",
   "metadata": {},
   "outputs": [
    {
     "data": {
      "text/plain": [
       "array([0.50031385, 0.50036742, 0.50042946, 0.50050116, 0.50058389,\n",
       "       0.5006792 , 0.50078881, 0.50091463, 0.50105883, 0.5012238 ,\n",
       "       0.50141222, 0.50162704, 0.50187154, 0.50214935, 0.50246444,\n",
       "       0.5028212 , 0.50322445, 0.50367945, 0.50419194, 0.50476818,\n",
       "       0.50541495, 0.50613963, 0.50695015, 0.50785511, 0.5088637 ,\n",
       "       0.5099858 , 0.51123197, 0.51261345, 0.51414221, 0.5158309 ,\n",
       "       0.51769291, 0.51974231, 0.52199387, 0.52446305, 0.52716594,\n",
       "       0.53011923, 0.5333402 , 0.53684662, 0.54065671, 0.54478906,\n",
       "       0.54926254, 0.5540962 , 0.55930917, 0.56492053, 0.57094919,\n",
       "       0.57741371, 0.58433221, 0.59172215, 0.59960018, 0.60798193,\n",
       "       0.61688189, 0.62631312, 0.63628713, 0.64681363, 0.65790032,\n",
       "       0.66955272, 0.68177396, 0.69456454, 0.70792219, 0.72184167,\n",
       "       0.73631459, 0.75132927, 0.76687061, 0.78291993, 0.79945493,\n",
       "       0.81644958, 0.83387408, 0.85169486, 0.86987456, 0.88837211,\n",
       "       0.90714278, 0.92613829, 0.945307  , 0.96459401, 0.98394145,\n",
       "       1.00328868, 1.0225726 , 1.04172794, 1.06068762, 1.07938311,\n",
       "       1.09774481, 1.11570252, 1.13318582, 1.15012453, 1.16644921,\n",
       "       1.18209158, 1.19698503, 1.21106506, 1.22426976, 1.23654028,\n",
       "       1.24782121, 1.25806105, 1.26721258, 1.27523323, 1.28208539,\n",
       "       1.28773672, 1.29216042, 1.29533541, 1.29724651, 1.29788456,\n",
       "       1.29724651, 1.29533541, 1.29216042, 1.28773672, 1.28208539,\n",
       "       1.27523323, 1.26721258, 1.25806105, 1.24782121, 1.23654028,\n",
       "       1.22426976, 1.21106506, 1.19698503, 1.18209158, 1.16644921,\n",
       "       1.15012453, 1.13318582, 1.11570252, 1.09774481, 1.07938311,\n",
       "       1.06068762, 1.04172794, 1.0225726 , 1.00328868, 0.98394145,\n",
       "       0.96459401, 0.945307  , 0.92613829, 0.90714278, 0.88837211,\n",
       "       0.86987456, 0.85169486, 0.83387408, 0.81644958, 0.79945493,\n",
       "       0.78291993, 0.76687061, 0.75132927, 0.73631459, 0.72184167,\n",
       "       0.70792219, 0.69456454, 0.68177396, 0.66955272, 0.65790032,\n",
       "       0.64681363, 0.63628713, 0.62631312, 0.61688189, 0.60798193,\n",
       "       0.59960018, 0.59172215, 0.58433221, 0.57741371, 0.57094919,\n",
       "       0.56492053, 0.55930917, 0.5540962 , 0.54926254, 0.54478906,\n",
       "       0.54065671, 0.53684662, 0.5333402 , 0.53011923, 0.52716594,\n",
       "       0.52446305, 0.52199387, 0.51974231, 0.51769291, 0.5158309 ,\n",
       "       0.51414221, 0.51261345, 0.51123197, 0.5099858 , 0.5088637 ,\n",
       "       0.50785511, 0.50695015, 0.50613963, 0.50541495, 0.50476818,\n",
       "       0.50419194, 0.50367945, 0.50322445, 0.5028212 , 0.50246444,\n",
       "       0.50214935, 0.50187154, 0.50162704, 0.50141222, 0.5012238 ,\n",
       "       0.50105883, 0.50091463, 0.50078881, 0.5006792 , 0.50058389,\n",
       "       0.50050116, 0.50042946, 0.50036742, 0.50031385, 0.50026766])"
      ]
     },
     "execution_count": 49,
     "metadata": {},
     "output_type": "execute_result"
    },
    {
     "data": {
      "image/png": "[encoded data removed]",
      "text/plain": [
       "<Figure size 640x480 with 1 Axes>"
      ]
     },
     "metadata": {},
     "output_type": "display_data"
    }
   ],
   "source": [
    "import numpy as np\n",
    "import matplotlib.pyplot as plt\n",
    "from scipy.stats import norm\n",
    "\n",
    "plt.rcParams['font.sans-serif'] = ['Calibri']\n",
    "x_absorption = np.linspace(360, 760, 201)\n",
    "y_absorption = -30*norm.pdf(x_absorption, 460, 30)+0.5\n",
    "# plt.plot(x_absorption, y_absorption, c=\"r\")\n",
    "# plt.fill_between(x_absorption, y_absorption,y_absorption[0], color='red', alpha=0.2)\n",
    "x_emission = np.linspace(561,760,200)\n",
    "y_emission = 50*norm.pdf(x_emission, 660, 25)+0.5\n",
    "x_emission = 1e8/x_emission\n",
    "sigma =25\n",
    "miu = 660\n",
    "# 高斯函数波长与波数做变换，要相应的把均值和标准差也做变换，都改成倒数再乘以10^8（这样是从nm转换到cm^-1）\n",
    "# y_emission =25*(1/((1e8/sigma)*sqrt(2*pi)))*np.exp(-((1e8/x_emission)-(1e8/miu))**2/(2*(1e8/sigma)**2))\n",
    "plt.plot(x_emission, y_emission, c=\"b\")\n",
    "plt.fill_between(x_emission, y_emission,y_emission[0], color='b', alpha=0.2)\n",
    "# x = np.hstack((x_absorption,x_emission))\n",
    "# y = np.hstack((y_absorption,y_emission))\n",
    "# # plt.xlim([360, 760])\n",
    "# # plt.ylim([0, 1])\n",
    "# plt.xlabel('Wavelength/nm',fontsize=14)\n",
    "# # plt.xticks(range(360, 761, 40))\n",
    "# plt.ylabel('Reflectance',fontsize=14)\n",
    "# # plt.title('Absorption and Emission')\n",
    "# plt.tight_layout()\n",
    "# # plt.savefig('my_plot.pdf',format=\"pdf\")\n",
    "# plt.savefig('my_plot.png')\n",
    "# plt.show()\n",
    "y_emission"
   ]
  },
  {
   "cell_type": "code",
   "execution_count": 97,
   "id": "127c4fb7",
   "metadata": {},
   "outputs": [
    {
     "data": {
      "image/png": "[encoded data removed]",
      "text/plain": [
       "<Figure size 640x480 with 1 Axes>"
      ]
     },
     "metadata": {},
     "output_type": "display_data"
    }
   ],
   "source": [
    "data=pd.read_excel('sphere Contact test.xlsx')\n",
    "x= np.array(data.iloc[:,0])\n",
    "y = (np.array(data.iloc[:,1]))/10000\n",
    "plt.plot(x, y, c=\"r\")\n",
    "plt.ylim([np.min(y), np.max(y)])\n",
    "plt.xlabel(r'Horizontal displacement / ($\\mu$m)',fontsize=14)\n",
    "plt.ylabel('Depth / ($\\mu$m)',fontsize=14)\n",
    "plt.title('Surface topology')\n",
    "plt.tight_layout()\n",
    "plt.savefig('Surface topology.png')"
   ]
  },
  {
   "cell_type": "code",
   "execution_count": 101,
   "id": "eb973d08",
   "metadata": {},
   "outputs": [],
   "source": [
    "data=pd.read_excel('Light extraction optimized result.xlsx', sheet_name='Sheet2')\n",
    "R_tmp1 = np.array(data.iloc[:, 0])"
   ]
  },
  {
   "cell_type": "code",
   "execution_count": null,
   "id": "f617c075",
   "metadata": {},
   "outputs": [],
   "source": []
  }
 ],
 "metadata": {
  "kernelspec": {
   "display_name": "Python 3 (ipykernel)",
   "language": "python",
   "name": "python3"
  },
  "language_info": {
   "codemirror_mode": {
    "name": "ipython",
    "version": 3
   },
   "file_extension": ".py",
   "mimetype": "text/x-python",
   "name": "python",
   "nbconvert_exporter": "python",
   "pygments_lexer": "ipython3",
   "version": "3.10.9"
  }
 },
 "nbformat": 4,
 "nbformat_minor": 5
}
